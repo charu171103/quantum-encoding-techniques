{
 "cells": [
  {
   "cell_type": "markdown",
   "metadata": {},
   "source": [
    "BASIS ENCODING"
   ]
  },
  {
   "cell_type": "code",
   "execution_count": 1,
   "metadata": {},
   "outputs": [
    {
     "data": {
      "text/html": [
       "<pre style=\"word-wrap: normal;white-space: pre;background: #fff0;line-height: 1.1;font-family: &quot;Courier New&quot;,Courier,monospace\">global phase: 2.2725\n",
       "             ┌──────────────────────┐                                    ┌───┐»\n",
       "q_0: ─|0>────┤ U(π,-4.9679,-0.2555) ├────────────────────────────────────┤ X ├»\n",
       "          ┌──┴──────────────────────┴─┐┌───┐┌───────────────────────────┐└─┬─┘»\n",
       "q_1: ─|0>─┤ U(0.80274,0.1841,-1.6454) ├┤ X ├┤ U(0.80274,-3.2543,2.9575) ├──■──»\n",
       "          └─┬───────────────────────┬─┘└─┬─┘└───────────────────────────┘     »\n",
       "q_2: ─|0>───┤ U(π,0.09365,-0.09365) ├────■────────────────────────────────────»\n",
       "            └───────────────────────┘                                         »\n",
       "«     ┌───────────────────┐┌───┐┌─────────────────┐┌───┐»\n",
       "«q_0: ┤ U(π/2,π/2,4.3378) ├┤ X ├┤ U(π/2,-π/2,π/2) ├┤ X ├»\n",
       "«     └───────────────────┘└─┬─┘└─────────────────┘└─┬─┘»\n",
       "«q_1: ───────────────────────┼───────────────────────■──»\n",
       "«                            │                          »\n",
       "«q_2: ───────────────────────■──────────────────────────»\n",
       "«                                                       »\n",
       "«     ┌───────────────────────┐\n",
       "«q_0: ┤ U(π,-3.3069,-0.16528) ├\n",
       "«     └───────────────────────┘\n",
       "«q_1: ─────────────────────────\n",
       "«                              \n",
       "«q_2: ─────────────────────────\n",
       "«                              </pre>"
      ],
      "text/plain": [
       "global phase: 2.2725\n",
       "             ┌──────────────────────┐                                    ┌───┐»\n",
       "q_0: ─|0>────┤ U(π,-4.9679,-0.2555) ├────────────────────────────────────┤ X ├»\n",
       "          ┌──┴──────────────────────┴─┐┌───┐┌───────────────────────────┐└─┬─┘»\n",
       "q_1: ─|0>─┤ U(0.80274,0.1841,-1.6454) ├┤ X ├┤ U(0.80274,-3.2543,2.9575) ├──■──»\n",
       "          └─┬───────────────────────┬─┘└─┬─┘└───────────────────────────┘     »\n",
       "q_2: ─|0>───┤ U(π,0.09365,-0.09365) ├────■────────────────────────────────────»\n",
       "            └───────────────────────┘                                         »\n",
       "«     ┌───────────────────┐┌───┐┌─────────────────┐┌───┐»\n",
       "«q_0: ┤ U(π/2,π/2,4.3378) ├┤ X ├┤ U(π/2,-π/2,π/2) ├┤ X ├»\n",
       "«     └───────────────────┘└─┬─┘└─────────────────┘└─┬─┘»\n",
       "«q_1: ───────────────────────┼───────────────────────■──»\n",
       "«                            │                          »\n",
       "«q_2: ───────────────────────■──────────────────────────»\n",
       "«                                                       »\n",
       "«     ┌───────────────────────┐\n",
       "«q_0: ┤ U(π,-3.3069,-0.16528) ├\n",
       "«     └───────────────────────┘\n",
       "«q_1: ─────────────────────────\n",
       "«                              \n",
       "«q_2: ─────────────────────────\n",
       "«                              "
      ]
     },
     "execution_count": 1,
     "metadata": {},
     "output_type": "execute_result"
    }
   ],
   "source": [
    "import math\n",
    "from qiskit import QuantumCircuit\n",
    "\n",
    "desired_state = [\n",
    "    0,\n",
    "    0,\n",
    "    0,\n",
    "    0,\n",
    "    0,\n",
    "    1 / math.sqrt(2),\n",
    "    0,\n",
    "    1 / math.sqrt(2)]\n",
    "\n",
    "qc = QuantumCircuit(3)\n",
    "qc.initialize(desired_state, [0,1,2])\n",
    "qc.decompose().decompose().decompose().decompose().decompose().draw()"
   ]
  },
  {
   "cell_type": "markdown",
   "metadata": {},
   "source": [
    "AMPLITUDE ENCODING"
   ]
  },
  {
   "cell_type": "code",
   "execution_count": 4,
   "metadata": {},
   "outputs": [
    {
     "data": {
      "text/html": [
       "<pre style=\"word-wrap: normal;white-space: pre;background: #fff0;line-height: 1.1;font-family: &quot;Courier New&quot;,Courier,monospace\">          ┌─────────────────┐┌───┐┌───────────────┐\n",
       "q_0: ─|0>─┤ U(0.588,0,-π/2) ├┤ X ├┤ U(0.588,0,-π) ├\n",
       "          └┬───────────────┬┘└─┬─┘└───────────────┘\n",
       "q_1: ─|0>──┤ U(2.3531,π,0) ├───■───────────────────\n",
       "           └───────────────┘                       </pre>"
      ],
      "text/plain": [
       "          ┌─────────────────┐┌───┐┌───────────────┐\n",
       "q_0: ─|0>─┤ U(0.588,0,-π/2) ├┤ X ├┤ U(0.588,0,-π) ├\n",
       "          └┬───────────────┬┘└─┬─┘└───────────────┘\n",
       "q_1: ─|0>──┤ U(2.3531,π,0) ├───■───────────────────\n",
       "           └───────────────┘                       "
      ]
     },
     "execution_count": 4,
     "metadata": {},
     "output_type": "execute_result"
    }
   ],
   "source": [
    "desired_state = [\n",
    "    1 / math.sqrt(15.25) * 1.5,\n",
    "    0,\n",
    "    1 / math.sqrt(15.25) * -2,\n",
    "    1 / math.sqrt(15.25) * 3]\n",
    "\n",
    "qc = QuantumCircuit(2)\n",
    "qc.initialize(desired_state, [0,1])\n",
    "\n",
    "qc.decompose().decompose().decompose().decompose().decompose().draw()"
   ]
  },
  {
   "cell_type": "markdown",
   "metadata": {},
   "source": [
    "ANGLE ENCODING"
   ]
  },
  {
   "cell_type": "code",
   "execution_count": 13,
   "metadata": {},
   "outputs": [
    {
     "data": {
      "text/html": [
       "<pre style=\"word-wrap: normal;white-space: pre;background: #fff0;line-height: 1.1;font-family: &quot;Courier New&quot;,Courier,monospace\">      ┌───────┐ \n",
       "q_0: ─┤ Ry(0) ├─\n",
       "     ┌┴───────┴┐\n",
       "q_1: ┤ Ry(π/2) ├\n",
       "     └┬───────┬┘\n",
       "q_2: ─┤ Ry(π) ├─\n",
       "      └───────┘ </pre>"
      ],
      "text/plain": [
       "      ┌───────┐ \n",
       "q_0: ─┤ Ry(0) ├─\n",
       "     ┌┴───────┴┐\n",
       "q_1: ┤ Ry(π/2) ├\n",
       "     └┬───────┬┘\n",
       "q_2: ─┤ Ry(π) ├─\n",
       "      └───────┘ "
      ]
     },
     "execution_count": 13,
     "metadata": {},
     "output_type": "execute_result"
    }
   ],
   "source": [
    "qc = QuantumCircuit(3)\n",
    "qc.ry(0, 0)\n",
    "qc.ry(2*math.pi/4, 1)\n",
    "qc.ry(2*math.pi/2, 2)\n",
    "qc.draw()"
   ]
  },
  {
   "cell_type": "markdown",
   "metadata": {},
   "source": [
    "ARBITARY ENCODING"
   ]
  },
  {
   "cell_type": "markdown",
   "metadata": {},
   "source": [
    "from qiskit.circuit.library import ZZFeatureMap, efficient_su2\n",
    "from qiskit import QuantumCircuit\n",
    "\n",
    "# EfficientSU2 Circuit using the updated function\n",
    "circuit1 = efficient_su2(num_qubits=3, reps=1, insert_barriers=True)\n",
    "circuit1.decompose().draw()\n",
    "\n",
    "# Assign parameters to the EfficientSU2 circuit\n",
    "x1 = [0.1, 0.2, 0.3, 0.4, 0.5, 0.6, 0.7, 0.8, 0.9, 1.0, 1.1, 1.2]\n",
    "encode1 = circuit1.assign_parameters(x1)\n",
    "encode1.decompose().draw()\n",
    "\n",
    "# ZZFeatureMap Circuit\n",
    "circuit2 = ZZFeatureMap(3, reps=2, insert_barriers=True)\n",
    "circuit2.decompose().draw()\n",
    "\n",
    "# Assign parameters to the ZZFeatureMap circuit\n",
    "x2 = [0.1, 0.2, 0.3]\n",
    "encode2 = circuit2.assign_parameters(x2)\n",
    "encode2.decompose().draw()\n"
   ]
  },
  {
   "cell_type": "code",
   "execution_count": 4,
   "metadata": {},
   "outputs": [
    {
     "data": {
      "text/html": [
       "<pre style=\"word-wrap: normal;white-space: pre;background: #fff0;line-height: 1.1;font-family: &quot;Courier New&quot;,Courier,monospace\">          ┌─────────────────────────────────────────────────┐\n",
       "q_0: ─|0>─┤0                                                ├\n",
       "          │                                                 │\n",
       "q_1: ─|0>─┤1 State Preparation(0,0,0,0,0,0.70711,0,0.70711) ├\n",
       "          │                                                 │\n",
       "q_2: ─|0>─┤2                                                ├\n",
       "          └─────────────────────────────────────────────────┘</pre>"
      ],
      "text/plain": [
       "          ┌─────────────────────────────────────────────────┐\n",
       "q_0: ─|0>─┤0                                                ├\n",
       "          │                                                 │\n",
       "q_1: ─|0>─┤1 State Preparation(0,0,0,0,0,0.70711,0,0.70711) ├\n",
       "          │                                                 │\n",
       "q_2: ─|0>─┤2                                                ├\n",
       "          └─────────────────────────────────────────────────┘"
      ]
     },
     "execution_count": 4,
     "metadata": {},
     "output_type": "execute_result"
    }
   ],
   "source": [
    "import math\n",
    "from qiskit import QuantumCircuit\n",
    "\n",
    "desired_state = [\n",
    "    0,\n",
    "    0,\n",
    "    0,\n",
    "    0,\n",
    "    0,\n",
    "    1 / math.sqrt(2),\n",
    "    0,\n",
    "    1 / math.sqrt(2)]\n",
    "\n",
    "qc = QuantumCircuit(3)\n",
    "qc.initialize(desired_state, [0,1,2])\n",
    "qc.decompose().draw()"
   ]
  },
  {
   "cell_type": "code",
   "execution_count": 5,
   "metadata": {},
   "outputs": [
    {
     "data": {
      "text/html": [
       "<pre style=\"word-wrap: normal;white-space: pre;background: #fff0;line-height: 1.1;font-family: &quot;Courier New&quot;,Courier,monospace\">          ┌────────────────────────────────────────────────┐\n",
       "q_0: ─|0>─┤0                                               ├\n",
       "          │  State Preparation(0.38411,0,-0.51215,0.76822) │\n",
       "q_1: ─|0>─┤1                                               ├\n",
       "          └────────────────────────────────────────────────┘</pre>"
      ],
      "text/plain": [
       "          ┌────────────────────────────────────────────────┐\n",
       "q_0: ─|0>─┤0                                               ├\n",
       "          │  State Preparation(0.38411,0,-0.51215,0.76822) │\n",
       "q_1: ─|0>─┤1                                               ├\n",
       "          └────────────────────────────────────────────────┘"
      ]
     },
     "execution_count": 5,
     "metadata": {},
     "output_type": "execute_result"
    }
   ],
   "source": [
    "desired_state = [\n",
    "    1 / math.sqrt(15.25) * 1.5,\n",
    "    0,\n",
    "    1 / math.sqrt(15.25) * -2,\n",
    "    1 / math.sqrt(15.25) * 3]\n",
    "\n",
    "qc = QuantumCircuit(2)\n",
    "qc.initialize(desired_state, [0,1])\n",
    "\n",
    "qc.decompose().draw()"
   ]
  }
 ],
 "metadata": {
  "kernelspec": {
   "display_name": "qiskit-env",
   "language": "python",
   "name": "python3"
  },
  "language_info": {
   "codemirror_mode": {
    "name": "ipython",
    "version": 3
   },
   "file_extension": ".py",
   "mimetype": "text/x-python",
   "name": "python",
   "nbconvert_exporter": "python",
   "pygments_lexer": "ipython3",
   "version": "3.12.4"
  }
 },
 "nbformat": 4,
 "nbformat_minor": 2
}
